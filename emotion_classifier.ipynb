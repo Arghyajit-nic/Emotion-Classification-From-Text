{
 "cells": [
  {
   "cell_type": "markdown",
   "id": "d99799a7",
   "metadata": {},
   "source": [
    "# Emotion Classification from Text\n",
    "This notebook builds a logistic regression model to classify emotions based on text."
   ]
  },
  {
   "cell_type": "markdown",
   "id": "5425c0b9",
   "metadata": {},
   "source": [
    "## 1. Install and Import Dependencies"
   ]
  },
  {
   "cell_type": "code",
   "execution_count": null,
   "id": "c8556962",
   "metadata": {},
   "outputs": [],
   "source": [
    "!pip install kagglehub --quiet\n",
    "!pip install gradio --quiet\n",
    "\n",
    "import pandas as pd\n",
    "import matplotlib.pyplot as plt\n",
    "import os\n",
    "import joblib\n",
    "import kagglehub\n",
    "import gradio as gr\n",
    "\n",
    "from sklearn.model_selection import train_test_split\n",
    "from sklearn.feature_extraction.text import TfidfVectorizer\n",
    "from sklearn.linear_model import LogisticRegression\n",
    "from sklearn.metrics import accuracy_score, classification_report\n"
   ]
  },
  {
   "cell_type": "markdown",
   "id": "4d8eacab",
   "metadata": {},
   "source": [
    "## 2. Download and Load Dataset"
   ]
  },
  {
   "cell_type": "code",
   "execution_count": null,
   "id": "0fec49d4",
   "metadata": {},
   "outputs": [],
   "source": [
    "# Download dataset from Kaggle using kagglehub\n",
    "path = kagglehub.dataset_download(\"pashupatigupta/emotion-detection-from-text\")\n",
    "\n",
    "# List CSV file\n",
    "csv_files = [f for f in os.listdir(path) if f.endswith(\".csv\")]\n",
    "if not csv_files:\n",
    "    raise FileNotFoundError(\"No CSV file found in the dataset.\")\n",
    "csv_path = os.path.join(path, csv_files[0])\n",
    "print(\"Loaded CSV:\", csv_path)\n",
    "\n",
    "# Load into pandas\n",
    "df = pd.read_csv(csv_path)\n",
    "df.head()\n"
   ]
  },
  {
   "cell_type": "markdown",
   "id": "37497aee",
   "metadata": {},
   "source": [
    "## 3. Preprocessing and Train-Test Split"
   ]
  },
  {
   "cell_type": "code",
   "execution_count": null,
   "id": "3e479270",
   "metadata": {},
   "outputs": [],
   "source": [
    "# Split dataset\n",
    "train_df, test_df = train_test_split(df, test_size=0.2, random_state=42)\n",
    "\n",
    "# Extract features and labels\n",
    "X_train = train_df['content']\n",
    "y_train = train_df['sentiment']\n",
    "X_test = test_df['content']\n",
    "y_test = test_df['sentiment']\n"
   ]
  },
  {
   "cell_type": "markdown",
   "id": "4a2a14db",
   "metadata": {},
   "source": [
    "## 4. Vectorization and Model Training"
   ]
  },
  {
   "cell_type": "code",
   "execution_count": null,
   "id": "31f2d44c",
   "metadata": {},
   "outputs": [],
   "source": [
    "# TF-IDF Vectorizer\n",
    "vectorizer = TfidfVectorizer()\n",
    "X_train_vec = vectorizer.fit_transform(X_train)\n",
    "X_test_vec = vectorizer.transform(X_test)\n",
    "\n",
    "# Logistic Regression model\n",
    "model = LogisticRegression(max_iter=1000)\n",
    "model.fit(X_train_vec, y_train)\n"
   ]
  },
  {
   "cell_type": "markdown",
   "id": "af3e3e2e",
   "metadata": {},
   "source": [
    "## 5. Evaluation"
   ]
  },
  {
   "cell_type": "code",
   "execution_count": null,
   "id": "4879d291",
   "metadata": {},
   "outputs": [],
   "source": [
    "y_pred = model.predict(X_test_vec)\n",
    "\n",
    "print(\"Accuracy:\", accuracy_score(y_test, y_pred))\n",
    "print(\"Classification Report:\\n\", classification_report(y_test, y_pred))\n"
   ]
  },
  {
   "cell_type": "markdown",
   "id": "41c7da57",
   "metadata": {},
   "source": [
    "## 6. Save Model and Vectorizer"
   ]
  },
  {
   "cell_type": "code",
   "execution_count": null,
   "id": "b4e60e0c",
   "metadata": {},
   "outputs": [],
   "source": [
    "joblib.dump(model, 'emotion_model.pkl')\n",
    "joblib.dump(vectorizer, 'tfidf_vectorizer.pkl')\n"
   ]
  },
  {
   "cell_type": "markdown",
   "id": "490d6122",
   "metadata": {},
   "source": [
    "## 7. Define Prediction Function"
   ]
  },
  {
   "cell_type": "code",
   "execution_count": null,
   "id": "5d270695",
   "metadata": {},
   "outputs": [],
   "source": [
    "def predict_emotion(comment):\n",
    "    vec = vectorizer.transform([comment])\n",
    "    return model.predict(vec)[0]\n",
    "\n",
    "# Example\n",
    "print(predict_emotion(\"Scary lightning and thunder I'm glad it's over now\"))\n"
   ]
  },
  {
   "cell_type": "markdown",
   "id": "b10d3f8a",
   "metadata": {},
   "source": [
    "## 8. Launch Gradio Interface"
   ]
  },
  {
   "cell_type": "code",
   "execution_count": null,
   "id": "d657b4e9",
   "metadata": {},
   "outputs": [],
   "source": [
    "interface = gr.Interface(\n",
    "    fn=predict_emotion,\n",
    "    inputs=gr.Textbox(lines=3, placeholder=\"Type a comment here...\"),\n",
    "    outputs=\"text\",\n",
    "    title=\"Emotion Classifier\",\n",
    "    description=\"Enter a comment to classify the emotion (e.g. joy, fear, anger, etc.)\"\n",
    ")\n",
    "\n",
    "interface.launch()\n"
   ]
  }
 ],
 "metadata": {
  "colab": {
   "gpuType": "T4",
   "provenance": []
  },
  "kernelspec": {
   "display_name": "Python 3",
   "name": "python3"
  },
  "language_info": {
   "name": "python"
  }
 },
 "nbformat": 4,
 "nbformat_minor": 0
}
